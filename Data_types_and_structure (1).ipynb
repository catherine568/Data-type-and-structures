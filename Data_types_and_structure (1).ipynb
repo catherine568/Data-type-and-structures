{
  "nbformat": 4,
  "nbformat_minor": 0,
  "metadata": {
    "colab": {
      "provenance": []
    },
    "kernelspec": {
      "name": "python3",
      "display_name": "Python 3"
    },
    "language_info": {
      "name": "python"
    }
  },
  "cells": [
    {
      "cell_type": "code",
      "source": [],
      "metadata": {
        "id": "E7ERCChba-wf"
      },
      "execution_count": null,
      "outputs": []
    },
    {
      "cell_type": "markdown",
      "source": [
        "1.what are data structures,and why are they important?\n",
        "- data structures are formats for organizing and storing differnt kinds of data in python.they make the code more efficient,and they make the code easier to understand.\n",
        "\n",
        "2.Explain the difference between mutable and immutable data types with examples?\n",
        " - Mutable Data Type:A mutable data type is one whose values can be changed.example:list,dictionaries.and set\n",
        " - Immutable Data Type: A immutable data type is one in which the values cant be changed or altered.example:string and tuples.\n",
        "\n",
        "3.what are the main differences between lists and tuples in python?\n",
        " - list:list are mutable,defined using square brackets[],elements can be added or removed,elements can be modified.\n",
        " - Tuples:tuples are immutable,defined using paranthesis(),elements cannot be added or removed,elements cannot be modified.\n",
        "\n",
        "4.Describe how dictionaries store data?\n",
        " - dictionaries store data as key-value pairs,where each key is unique and maps to a specific value.\n",
        " - keys are immutable objects,such as strings, integers,or tuples.\n",
        " - keys must be unique within a dictionary.\n",
        " - values can be any type of object,including strigs,integers,lists,dictionaries,etc\n",
        "\n",
        "5.why might you use a set instead of a list in python?\n",
        " - uinqueness of elements\n",
        " - faster memebership testing\n",
        " - faster insertion and deletion\n",
        " - mathematical set operations\n",
        " - memeory efficiency\n",
        "\n",
        " 6.what is string in python,and how is it differnt from a list?\n",
        "  - string is a sequence of character,such as letters,numbers,or symbols,enclosed in quotes(either in single '' or double quotes \"\")\n",
        "  - string is different list in many ways:immutability:strings are immutable,while list are mutable.\n",
        "  - element type: strings can only contains chracters,while list can contain any type of object.(including strings,integers,floats,etc)\n",
        "\n",
        "7.How do tuples ensure data integrity in python?\n",
        " - tuples are a type of immutable collection in python,meaning their contents cannot be modified after creation.this immutability property of tuples ensures data integrity in several ways:1.prevents unintended changes 2.ensures consistency 3.supports hashability 4.provides a snapshot\n",
        "\n",
        "8.what is a hash table,and how does it relate to dictionaries in python?\n",
        " - hash table is a data structure that stores key value pairs in an array using a hash function to map keys to indices of the array.in python, dictionaries are implemented using hash tables.this means that dictionaries provide an efficient way to store and look up key-value pairs, with an average time complexity of0(1) for insertions,deletions,and lookups.\n",
        "\n",
        "9.can lists contain different data types in python?\n",
        " - A list can also contain a mix of python types including strings,floats,and booleans.\n",
        "\n",
        "10.explain why strings are immutable in python?\n",
        "- since immutable objects cannot change their value,python can optimize memeory usage.\n",
        "\n",
        "11.what advantages do dictionaries offer over lists for certain tasks?\n",
        " - 1.Fast lookups\n",
        " 2.efficient data retrival\n",
        " 3.flexible data structure\n",
        " 4.easy data modification\n",
        " 5.reduced memeory usage\n",
        " 6.improved code readability\n",
        "\n",
        "12.Describe a scenario where using a tuple would be preferable over a list?\n",
        " - imagine you are working on a mapping application that requires storing geographical coordinates for various locations.\n",
        "\n",
        "13.how do sets handle duplicate values in python?\n",
        " - python sets cannot have duplicate values.while you cannot modify the individual elements directly,you can still add or remove elements from the set.\n",
        "\n",
        "14.how does the \"in\" keyword work differently for lists and dictionaries?\n",
        " - In operation for the dictionary tests on keys.the key of the dictionary ia s unique value as well as the set,and the execution time is about the same as for sets.\n",
        "\n",
        "15.can you modify the elements of a tuple? explain why or why not?\n",
        " - NO you cannot modify the elements of a tuple.tuples are immutable,which means that their contents cannot be changed after creation.\n",
        " tuples are immutable for several reasons:\n",
        " - security\n",
        " -thread safety\n",
        " -hashability\n",
        "\n",
        "16.what is a nested dictionary,and give an example of its use case?\n",
        " - Dictionaries that are stored as values within another dictionary is called nested dictionary.example:students = {\"John\": {\"age\": 20,\"grade\":\"A\"},\"jane\": {\"age\"22,\"grade\":b\"}}\n",
        "\n",
        "\n",
        "17.Decribe the time complexity of accessing elements in a dictionary?\n",
        " - similar to the insertion operation,dicitionary lookups in python also have an average time complexity of o(1).this means that, on average,the time taken to retrive an element from a dictionary is constant and does not depend on the size of the dictionary.\n",
        "\n",
        " 18.In what situations are  lists preferred over dictionaries?\n",
        " - if you need an ordered collection,like a sequence of user actions.lists are your go-to.on the other hand,when you need quick look-ups,like mapping usernames to user data,dictionaries are invaluable.\n",
        "\n",
        "\n",
        " 19.why are dictionaries considered unordered,and how does that affect data retrieval?\n",
        " - A dictionary is termed an unordered collection of objects because dictionaries do not maintain any inherant order of the items based on when they were added.\n",
        "\n",
        "20.explain the difference between a list and a dictionary in terms of data retrieval?\n",
        "- A list is an unordered collection of items,whereas a dictionary is an unordered data collection in a key:value pair.elements from the list can be accessed using the index,while the elements of the dictionary can be accessed using keys.\n",
        "\n",
        "\n",
        "\n",
        "\n",
        "\n",
        "  "
      ],
      "metadata": {
        "id": "FxDnubgvHCTF"
      }
    },
    {
      "cell_type": "code",
      "source": [
        "#practical questions\n",
        "\n",
        "#write a code to create a string with your name and print it\n",
        "a=(\"catherine\")\n",
        "print(a)\n"
      ],
      "metadata": {
        "colab": {
          "base_uri": "https://localhost:8080/"
        },
        "id": "Of8HI7hYyZZj",
        "outputId": "47c5cac9-c95c-4867-e3ef-1c83698c6890"
      },
      "execution_count": 1,
      "outputs": [
        {
          "output_type": "stream",
          "name": "stdout",
          "text": [
            "catherine\n"
          ]
        }
      ]
    },
    {
      "cell_type": "code",
      "source": [
        "#write a code to find the length of the string \"Hello World\"\n",
        "a=(\"hello world\")\n",
        "print(len(a))"
      ],
      "metadata": {
        "colab": {
          "base_uri": "https://localhost:8080/"
        },
        "id": "IsF6_gdlO_uW",
        "outputId": "8396d6c4-74b5-4742-e465-888899458fb1"
      },
      "execution_count": 2,
      "outputs": [
        {
          "output_type": "stream",
          "name": "stdout",
          "text": [
            "11\n"
          ]
        }
      ]
    },
    {
      "cell_type": "code",
      "execution_count": 3,
      "metadata": {
        "colab": {
          "base_uri": "https://localhost:8080/"
        },
        "id": "vpks-oDiGhvu",
        "outputId": "a47457a9-9c66-4202-e882-1cd8fc5adef8"
      },
      "outputs": [
        {
          "output_type": "stream",
          "name": "stdout",
          "text": [
            "pyt\n"
          ]
        }
      ],
      "source": [
        "#write a code to slice the first 3 chracters from the string \"python programming\"\n",
        "a=\"python programming\"\n",
        "print(a[0:3])"
      ]
    },
    {
      "cell_type": "code",
      "source": [
        " #Write a code to convert the string \"hello\" to uppercase\n",
        " a=\"hello\"\n",
        " print(a.upper())"
      ],
      "metadata": {
        "colab": {
          "base_uri": "https://localhost:8080/"
        },
        "id": "1A_wmoM_09ie",
        "outputId": "61442237-d5b2-44d0-965f-772fd12dccc5"
      },
      "execution_count": 5,
      "outputs": [
        {
          "output_type": "stream",
          "name": "stdout",
          "text": [
            "HELLO\n"
          ]
        }
      ]
    },
    {
      "cell_type": "code",
      "source": [
        "  #Write a code to replace the word \"apple\" with \"orange\" in the string \"I like apple\"\n",
        "\n",
        "string = \"I like apple\"\n",
        "new_string = string.replace(\"apple\", \"orange\")\n",
        "new_string\n"
      ],
      "metadata": {
        "colab": {
          "base_uri": "https://localhost:8080/",
          "height": 36
        },
        "id": "AupzXonE13A0",
        "outputId": "f29930e1-6623-4477-dd61-0b454d616c22"
      },
      "execution_count": 6,
      "outputs": [
        {
          "output_type": "execute_result",
          "data": {
            "text/plain": [
              "'I like orange'"
            ],
            "application/vnd.google.colaboratory.intrinsic+json": {
              "type": "string"
            }
          },
          "metadata": {},
          "execution_count": 6
        }
      ]
    },
    {
      "cell_type": "code",
      "source": [
        " #Write a code to create a list with numbers 1 to 5 and print it\n",
        "\n",
        "my_list = list(range(1, 6))\n",
        "my_list\n"
      ],
      "metadata": {
        "colab": {
          "base_uri": "https://localhost:8080/"
        },
        "id": "uCKGW6gZ2nG7",
        "outputId": "205d9312-4367-44ae-a44b-017bded0df1d"
      },
      "execution_count": 8,
      "outputs": [
        {
          "output_type": "execute_result",
          "data": {
            "text/plain": [
              "[1, 2, 3, 4, 5]"
            ]
          },
          "metadata": {},
          "execution_count": 8
        }
      ]
    },
    {
      "cell_type": "code",
      "source": [
        " #Write a code to append the number 10 to the list [1, 2, 3, 4]\n",
        "\n",
        "my_list = [1, 2, 3, 4]\n",
        "my_list.append(10)\n",
        "my_list\n"
      ],
      "metadata": {
        "colab": {
          "base_uri": "https://localhost:8080/"
        },
        "id": "rA6I6BdK21zP",
        "outputId": "ef54fcdd-f668-44a2-98ef-99268202533f"
      },
      "execution_count": 9,
      "outputs": [
        {
          "output_type": "execute_result",
          "data": {
            "text/plain": [
              "[1, 2, 3, 4, 10]"
            ]
          },
          "metadata": {},
          "execution_count": 9
        }
      ]
    },
    {
      "cell_type": "code",
      "source": [
        " #Write a code to remove the number 3 from the list [1, 2, 3, 4, 5]\n",
        "\n",
        "my_list = [1, 2, 3, 4, 5]\n",
        "my_list.remove(3)\n",
        "my_list\n"
      ],
      "metadata": {
        "colab": {
          "base_uri": "https://localhost:8080/"
        },
        "id": "89n2s0E_3Ecs",
        "outputId": "eded8822-3b57-4242-812f-51929c3654f9"
      },
      "execution_count": 10,
      "outputs": [
        {
          "output_type": "execute_result",
          "data": {
            "text/plain": [
              "[1, 2, 4, 5]"
            ]
          },
          "metadata": {},
          "execution_count": 10
        }
      ]
    },
    {
      "cell_type": "code",
      "source": [
        " #Write a code to access the second element in the list ['a', 'b', 'c', 'd']\n",
        "\n",
        "my_list = ['a', 'b', 'c', 'd']\n",
        "second_element = my_list[1]\n",
        "second_element\n"
      ],
      "metadata": {
        "colab": {
          "base_uri": "https://localhost:8080/",
          "height": 36
        },
        "id": "WzGVx42m3UYw",
        "outputId": "c43609ab-d012-406c-c0cf-6ff8516061ed"
      },
      "execution_count": 11,
      "outputs": [
        {
          "output_type": "execute_result",
          "data": {
            "text/plain": [
              "'b'"
            ],
            "application/vnd.google.colaboratory.intrinsic+json": {
              "type": "string"
            }
          },
          "metadata": {},
          "execution_count": 11
        }
      ]
    },
    {
      "cell_type": "code",
      "source": [
        "#Write a code to reverse the list [10, 20, 30, 40, 50].\n",
        "\n",
        "my_list = [10, 20, 30, 40, 50]\n",
        "reversed_list = my_list[::-1]\n",
        "reversed_list\n"
      ],
      "metadata": {
        "colab": {
          "base_uri": "https://localhost:8080/"
        },
        "id": "-wITOeJf3lXy",
        "outputId": "132e738d-31bf-4cfa-ab90-699d3d98cc37"
      },
      "execution_count": 12,
      "outputs": [
        {
          "output_type": "execute_result",
          "data": {
            "text/plain": [
              "[50, 40, 30, 20, 10]"
            ]
          },
          "metadata": {},
          "execution_count": 12
        }
      ]
    },
    {
      "cell_type": "code",
      "source": [
        " #Write a code to create a tuple with the elements 100, 200, 300 and print it\n",
        "\n",
        "# Write a code to create a tuple with the elements 100, 200, 300 and print it\n",
        "my_tuple = (100, 200, 300)\n",
        "my_tuple\n"
      ],
      "metadata": {
        "colab": {
          "base_uri": "https://localhost:8080/"
        },
        "id": "ymIeghYR3u6I",
        "outputId": "7d970176-dcc0-4c0d-989f-f89c222d41d3"
      },
      "execution_count": 13,
      "outputs": [
        {
          "output_type": "execute_result",
          "data": {
            "text/plain": [
              "(100, 200, 300)"
            ]
          },
          "metadata": {},
          "execution_count": 13
        }
      ]
    },
    {
      "cell_type": "code",
      "source": [
        " #Write a code to access the second-to-last element of the tuple ('red', 'green', 'blue', 'yellow')\n",
        "\n",
        "tuple = ('red', 'green', 'blue', 'yellow')\n",
        "tuple[1:]\n",
        "\n"
      ],
      "metadata": {
        "colab": {
          "base_uri": "https://localhost:8080/"
        },
        "id": "v02rL-f-3vGp",
        "outputId": "ed29b6cb-f82b-478a-d5fb-2855c0ca4bdd"
      },
      "execution_count": 17,
      "outputs": [
        {
          "output_type": "execute_result",
          "data": {
            "text/plain": [
              "('green', 'blue', 'yellow')"
            ]
          },
          "metadata": {},
          "execution_count": 17
        }
      ]
    },
    {
      "cell_type": "code",
      "source": [
        "  #Write a code to find the minimum number in the tuple (10, 20, 5, 15).\n",
        "\n",
        "my_tuple = (10, 20, 5, 15)\n",
        "min_number = min(my_tuple)\n",
        "min_number\n"
      ],
      "metadata": {
        "colab": {
          "base_uri": "https://localhost:8080/"
        },
        "id": "7U_3U6xf4V0N",
        "outputId": "440ca5ba-cf42-42b2-9b27-9ff88fa99876"
      },
      "execution_count": 18,
      "outputs": [
        {
          "output_type": "execute_result",
          "data": {
            "text/plain": [
              "5"
            ]
          },
          "metadata": {},
          "execution_count": 18
        }
      ]
    },
    {
      "cell_type": "code",
      "source": [
        " #Write a code to find the index of the element \"cat\" in the tuple ('dog', 'cat', 'rabbit')\n",
        "\n",
        "my_tuple = ('dog', 'cat', 'rabbit')\n",
        "index_of_cat = my_tuple.index('cat')\n",
        "index_of_cat\n"
      ],
      "metadata": {
        "colab": {
          "base_uri": "https://localhost:8080/"
        },
        "id": "PVI8nVi45P8l",
        "outputId": "9967fe51-81f8-4991-dcc9-baee93553643"
      },
      "execution_count": 19,
      "outputs": [
        {
          "output_type": "execute_result",
          "data": {
            "text/plain": [
              "1"
            ]
          },
          "metadata": {},
          "execution_count": 19
        }
      ]
    },
    {
      "cell_type": "code",
      "source": [
        " #Write a code to create a tuple containing three different fruits and check if \"kiwi\" is in it.\n",
        "\n",
        "# Create a tuple of fruits\n",
        "fruits = (\"apple\", \"kiwi\", \"orange\")\n",
        "\n",
        "# Check if \"kiwi\" is in the tuple\n",
        "if \"kiwi\" in fruits:\n",
        "  print(\"Kiwi is in the tuple.\")\n",
        "else:\n",
        "  print(\"Kiwi is not in the tuple.\")\n"
      ],
      "metadata": {
        "colab": {
          "base_uri": "https://localhost:8080/"
        },
        "id": "KmQp1qXV5kC6",
        "outputId": "6c7ba5ca-82cd-4556-bba7-e62d88b9e1f4"
      },
      "execution_count": 21,
      "outputs": [
        {
          "output_type": "stream",
          "name": "stdout",
          "text": [
            "Kiwi is in the tuple.\n"
          ]
        }
      ]
    },
    {
      "cell_type": "code",
      "source": [
        " #Write a code to create a set with the elements 'a', 'b', 'c' and print it.\n",
        "\n",
        "my_set = {'a', 'b', 'c'}\n",
        "my_set\n"
      ],
      "metadata": {
        "colab": {
          "base_uri": "https://localhost:8080/"
        },
        "id": "fOQ30cdU57kp",
        "outputId": "c80c757f-9e02-4143-f4dc-9d3fdb42135e"
      },
      "execution_count": 22,
      "outputs": [
        {
          "output_type": "execute_result",
          "data": {
            "text/plain": [
              "{'a', 'b', 'c'}"
            ]
          },
          "metadata": {},
          "execution_count": 22
        }
      ]
    },
    {
      "cell_type": "code",
      "source": [
        " #Write a code to clear all elements from the set {1, 2, 3, 4, 5}.\n",
        "\n",
        "my_set = {1, 2, 3, 4, 5}\n",
        "my_set.clear()\n",
        "my_set\n"
      ],
      "metadata": {
        "colab": {
          "base_uri": "https://localhost:8080/"
        },
        "id": "l9Ge2tZs6PAK",
        "outputId": "c57362a7-2cd1-4ed5-c03a-3faa2c907c21"
      },
      "execution_count": 23,
      "outputs": [
        {
          "output_type": "execute_result",
          "data": {
            "text/plain": [
              "set()"
            ]
          },
          "metadata": {},
          "execution_count": 23
        }
      ]
    },
    {
      "cell_type": "code",
      "source": [
        " #Write a code to remove the element 4 from the set {1, 2, 3, 4}.\n",
        "\n",
        "my_set = {1, 2, 3, 4}\n",
        "my_set.remove(4)\n",
        "my_set\n"
      ],
      "metadata": {
        "colab": {
          "base_uri": "https://localhost:8080/"
        },
        "id": "LNeChZGD6d7r",
        "outputId": "28f5abdd-0f22-47a6-b84f-f8dc8e904378"
      },
      "execution_count": 24,
      "outputs": [
        {
          "output_type": "execute_result",
          "data": {
            "text/plain": [
              "{1, 2, 3}"
            ]
          },
          "metadata": {},
          "execution_count": 24
        }
      ]
    },
    {
      "cell_type": "code",
      "source": [
        " #Write a code to find the union of two sets {1, 2, 3} and {3, 4, 5}\n",
        "\n",
        "set1 = {1, 2, 3}\n",
        "set2 = {3, 4, 5}\n",
        "\n",
        "union_set = set1.union(set2)\n",
        "union_set\n"
      ],
      "metadata": {
        "colab": {
          "base_uri": "https://localhost:8080/"
        },
        "id": "59JA3xJm6mzr",
        "outputId": "41d22d9d-831b-4a00-88f3-48369fc04f35"
      },
      "execution_count": 25,
      "outputs": [
        {
          "output_type": "execute_result",
          "data": {
            "text/plain": [
              "{1, 2, 3, 4, 5}"
            ]
          },
          "metadata": {},
          "execution_count": 25
        }
      ]
    },
    {
      "cell_type": "code",
      "source": [
        " #Write a code to find the intersection of two sets {1, 2, 3} and {2, 3, 4}.\n",
        "\n",
        "set1 = {1, 2, 3}\n",
        "set2 = {2, 3, 4}\n",
        "\n",
        "intersection_set = set1.intersection(set2)\n",
        "\n",
        "intersection_set\n"
      ],
      "metadata": {
        "colab": {
          "base_uri": "https://localhost:8080/"
        },
        "id": "vA8MuRt37CS2",
        "outputId": "1066f2c2-b21b-4797-c513-5f4679d052e5"
      },
      "execution_count": 26,
      "outputs": [
        {
          "output_type": "execute_result",
          "data": {
            "text/plain": [
              "{2, 3}"
            ]
          },
          "metadata": {},
          "execution_count": 26
        }
      ]
    },
    {
      "cell_type": "code",
      "source": [
        " #Write a code to create a dictionary with the keys \"name\", \"age\", and \"city\", and print it\n",
        "\n",
        "my_dictionary = {\n",
        "    \"name\": \"catherine\",\n",
        "    \"age\": 21,\n",
        "    \"city\": \"hubli\"\n",
        "}\n",
        "\n",
        "my_dictionary\n"
      ],
      "metadata": {
        "colab": {
          "base_uri": "https://localhost:8080/"
        },
        "id": "M4clAwkO7Jtj",
        "outputId": "26b23328-8c6a-4902-fe48-8c7d07af78c1"
      },
      "execution_count": 28,
      "outputs": [
        {
          "output_type": "execute_result",
          "data": {
            "text/plain": [
              "{'name': 'catherine', 'age': 21, 'city': 'hubli'}"
            ]
          },
          "metadata": {},
          "execution_count": 28
        }
      ]
    },
    {
      "cell_type": "code",
      "source": [
        "  #Write a code to add a new key-value pair \"country\": \"USA\" to the dictionary {'name': 'John', 'age': 25}\n",
        "\n",
        "my_dict = {'name': 'john', 'age': 25}\n",
        "my_dict['country'] = 'USA'\n",
        "my_dict\n"
      ],
      "metadata": {
        "colab": {
          "base_uri": "https://localhost:8080/"
        },
        "id": "NKSH27vn7kbg",
        "outputId": "dd59f61f-0763-4bf7-fd2f-6bf296e02f7a"
      },
      "execution_count": 30,
      "outputs": [
        {
          "output_type": "execute_result",
          "data": {
            "text/plain": [
              "{'name': 'john', 'age': 25, 'country': 'USA'}"
            ]
          },
          "metadata": {},
          "execution_count": 30
        }
      ]
    },
    {
      "cell_type": "code",
      "source": [
        " #Write a code to access the value associated with the key \"name\" in the dictionary {'name': 'Alice', 'age': 30}.\n",
        "\n",
        "my_dict = {'name': 'Alice', 'age': 30}\n",
        "name_value = my_dict['name']\n",
        "name_value\n"
      ],
      "metadata": {
        "colab": {
          "base_uri": "https://localhost:8080/",
          "height": 36
        },
        "id": "LNCrX8Ye751R",
        "outputId": "1354dd1e-61dd-461e-d29e-6323b5a3dfa0"
      },
      "execution_count": 31,
      "outputs": [
        {
          "output_type": "execute_result",
          "data": {
            "text/plain": [
              "'Alice'"
            ],
            "application/vnd.google.colaboratory.intrinsic+json": {
              "type": "string"
            }
          },
          "metadata": {},
          "execution_count": 31
        }
      ]
    },
    {
      "cell_type": "code",
      "source": [
        " #Write a code to remove the key \"age\" from the dictionary {'name': 'Bob', 'age': 22, 'city': 'New York'}.\n",
        "\n",
        "my_dict = {'name': 'Bob', 'age': 22, 'city': 'New York'}\n",
        "del my_dict['age']\n",
        "my_dict\n"
      ],
      "metadata": {
        "colab": {
          "base_uri": "https://localhost:8080/"
        },
        "id": "BahsIy4a8Eft",
        "outputId": "d7b70616-2b7e-4c6b-fde5-b1c937f284c2"
      },
      "execution_count": 32,
      "outputs": [
        {
          "output_type": "execute_result",
          "data": {
            "text/plain": [
              "{'name': 'Bob', 'city': 'New York'}"
            ]
          },
          "metadata": {},
          "execution_count": 32
        }
      ]
    },
    {
      "cell_type": "code",
      "source": [
        " #Write a code to check if the key \"city\" exists in the dictionary {'name': 'Alice', 'city': 'Paris'}\n",
        "\n",
        "my_dict = {'name': 'Alice', 'city': 'Paris'}\n",
        "\n",
        "if 'city' in my_dict:\n",
        "  print(\"The key 'city' exists in the dictionary.\")\n",
        "else:\n",
        "  print(\"The key 'city' does not exist in the dictionary.\")\n"
      ],
      "metadata": {
        "colab": {
          "base_uri": "https://localhost:8080/"
        },
        "id": "im2Wj2LW8TGp",
        "outputId": "282ceff2-1745-4c90-8e35-0121424a341b"
      },
      "execution_count": 33,
      "outputs": [
        {
          "output_type": "stream",
          "name": "stdout",
          "text": [
            "The key 'city' exists in the dictionary.\n"
          ]
        }
      ]
    },
    {
      "cell_type": "code",
      "source": [
        " #Write a code to create a list, a tuple, and a dictionary, and print them all.\n",
        "\n",
        "# Create a list\n",
        "my_list = [1, 2, 3, 4, 5]\n",
        "print(\"List:\", my_list)\n",
        "\n",
        "# Create a tuple\n",
        "my_tuple = (6, 7, 8, 9, 10)\n",
        "print(\"Tuple:\", my_tuple)\n",
        "\n",
        "# Create a dictionary\n",
        "my_dict = {\"name\": \"Alice\", \"age\": 30, \"city\": \"New York\"}\n",
        "print(\"Dictionary:\", my_dict)\n"
      ],
      "metadata": {
        "colab": {
          "base_uri": "https://localhost:8080/"
        },
        "id": "9Im6HSvH8pVk",
        "outputId": "3600eb34-8f5a-4fb5-a280-04b20dd491ad"
      },
      "execution_count": 34,
      "outputs": [
        {
          "output_type": "stream",
          "name": "stdout",
          "text": [
            "List: [1, 2, 3, 4, 5]\n",
            "Tuple: (6, 7, 8, 9, 10)\n",
            "Dictionary: {'name': 'Alice', 'age': 30, 'city': 'New York'}\n"
          ]
        }
      ]
    },
    {
      "cell_type": "code",
      "source": [
        " #Write a code to create a list of 5 random numbers between 1 and 100, sort it in ascending order, and print the result.(replaced)\n",
        "\n",
        "import random\n",
        "\n",
        "# Create a list of 5 random numbers between 1 and 100\n",
        "random_numbers = [random.randint(1, 100) for _ in range(5)]\n",
        "\n",
        "# Sort the list in ascending order\n",
        "random_numbers.sort()\n",
        "\n",
        "# Print the sorted list\n",
        "random_numbers\n"
      ],
      "metadata": {
        "colab": {
          "base_uri": "https://localhost:8080/"
        },
        "id": "22df6ydo8_Ln",
        "outputId": "49671747-5a97-46e3-fe84-61835fed205a"
      },
      "execution_count": 35,
      "outputs": [
        {
          "output_type": "execute_result",
          "data": {
            "text/plain": [
              "[26, 46, 63, 71, 73]"
            ]
          },
          "metadata": {},
          "execution_count": 35
        }
      ]
    },
    {
      "cell_type": "code",
      "source": [
        " #Write a code to create a list with strings and print the element at the third index.\n",
        "\n",
        "my_list = [\"apple\", \"banana\", \"cherry\", \"date\", \"elderberry\"]\n",
        "\n",
        "# Print the element at the third index (index 3)\n",
        "my_list[3]\n"
      ],
      "metadata": {
        "colab": {
          "base_uri": "https://localhost:8080/",
          "height": 36
        },
        "id": "Ub0-Cyee9Yc4",
        "outputId": "4cfe20a6-f304-437f-9225-0631a6845e58"
      },
      "execution_count": 36,
      "outputs": [
        {
          "output_type": "execute_result",
          "data": {
            "text/plain": [
              "'date'"
            ],
            "application/vnd.google.colaboratory.intrinsic+json": {
              "type": "string"
            }
          },
          "metadata": {},
          "execution_count": 36
        }
      ]
    },
    {
      "cell_type": "code",
      "source": [
        " #Write a code to combine two dictionaries into one and print the result\n",
        "\n",
        "dict1 = {'a': 1, 'b': 2}\n",
        "dict2 = {'c': 3, 'd': 4}\n",
        "\n",
        "combined_dict = (dict1,dict2)\n",
        "\n",
        "combined_dict\n"
      ],
      "metadata": {
        "colab": {
          "base_uri": "https://localhost:8080/"
        },
        "id": "SJ-hb1Ya9iCj",
        "outputId": "ad6915ef-9bd0-458e-ebe2-6c32bae448a1"
      },
      "execution_count": 40,
      "outputs": [
        {
          "output_type": "execute_result",
          "data": {
            "text/plain": [
              "({'a': 1, 'b': 2}, {'c': 3, 'd': 4})"
            ]
          },
          "metadata": {},
          "execution_count": 40
        }
      ]
    },
    {
      "cell_type": "code",
      "source": [
        " #Write a code to convert a list of strings into a set\n",
        "\n",
        "def convert_list_to_set(list_of_strings):\n",
        "  \"\"\"Converts a list of strings into a set.\n",
        "\n",
        "  Args:\n",
        "    list_of_strings: A list of strings.\n",
        "\n",
        "  Returns:\n",
        "    A set containing the unique strings from the input list.\n",
        "  \"\"\"\n",
        "\n",
        "  return set(list_of_strings)\n",
        "\n",
        "# Example usage\n",
        "my_list = [\"apple\", \"banana\", \"cherry\", \"apple\", \"banana\"]\n",
        "my_set = convert_list_to_set(my_list)\n",
        "print(my_set)  # Output: {'cherry', 'apple', 'banana'}\n"
      ],
      "metadata": {
        "colab": {
          "base_uri": "https://localhost:8080/"
        },
        "id": "uHqy_Bwe9rb3",
        "outputId": "fcabac54-9556-4a42-e9a1-451b45116d24"
      },
      "execution_count": 38,
      "outputs": [
        {
          "output_type": "stream",
          "name": "stdout",
          "text": [
            "{'apple', 'banana', 'cherry'}\n"
          ]
        }
      ]
    }
  ]
}